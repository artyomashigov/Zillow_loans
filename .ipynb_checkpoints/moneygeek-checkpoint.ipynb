{
 "cells": [
  {
   "cell_type": "code",
   "execution_count": 1,
   "id": "24b2b58e",
   "metadata": {},
   "outputs": [],
   "source": [
    "import pandas as pd\n",
    "import requests\n",
    "import time\n",
    "from bs4 import BeautifulSoup"
   ]
  },
  {
   "cell_type": "markdown",
   "id": "86c44668",
   "metadata": {},
   "source": [
    "## Conforming loans"
   ]
  },
  {
   "cell_type": "code",
   "execution_count": 2,
   "id": "4d75c2be",
   "metadata": {},
   "outputs": [],
   "source": [
    "url = '<table aria-label=\"Conforming loans average mortgage rates\" class=\"StyledTable-c11n-8-64-1__sc-b979s8-0 kMPsPq\"><thead class=\"StyledTableHeader-c11n-8-64-1__sc-1ba0xxh-0 cgKfgl\"><tr class=\"StyledTableRow-c11n-8-64-1__sc-1gk7etl-0 ijzRLM\"><th scope=\"col\" class=\"StyledTableCell-c11n-8-64-1__sc-1mvjdio-0 StyledTableHeaderCell-c11n-8-64-1__sc-j48v56-0 fHuYaj\">PROGRAM</th><th scope=\"col\" class=\"StyledTableCell-c11n-8-64-1__sc-1mvjdio-0 StyledTableHeaderCell-c11n-8-64-1__sc-j48v56-0 iFGIvU\">RATE</th><th scope=\"col\" class=\"StyledTableCell-c11n-8-64-1__sc-1mvjdio-0 StyledTableHeaderCell-c11n-8-64-1__sc-j48v56-0 iFGIvU\">1W CHANGE</th><th scope=\"col\" class=\"StyledTableCell-c11n-8-64-1__sc-1mvjdio-0 StyledTableHeaderCell-c11n-8-64-1__sc-j48v56-0 iFGIvU\">APR</th><th scope=\"col\" class=\"StyledTableCell-c11n-8-64-1__sc-1mvjdio-0 StyledTableHeaderCell-c11n-8-64-1__sc-j48v56-0 iFGIvU\">1W CHANGE</th></tr></thead><tbody class=\"StyledTableBody-c11n-8-64-1__sc-8i1s74-0 hLYlju\"><tr class=\"StyledTableRow-c11n-8-64-1__sc-1gk7etl-0 ijzRLM\"><th scope=\"row\" class=\"StyledTableCell-c11n-8-64-1__sc-1mvjdio-0 StyledTableHeaderCell-c11n-8-64-1__sc-j48v56-0 fHuYaj\"><div class=\"zgmi__sc-1nq68fd-0 kLoDFU\"><a href=\"https://www.zillow.com/mortgage-rates/30-year-fixed\" class=\"Anchor-c11n-8-64-1__sc-hn4bge-0 fCrkWm\">30-Year Fixed Rate</a></div></th><td class=\"StyledTableCell-c11n-8-64-1__sc-1mvjdio-0 iFGIvU\"><div class=\"zgmi__sc-1gaok4s-0 hZgvrA\"><span>7.28 %</span></div></td><td class=\"StyledTableCell-c11n-8-64-1__sc-1mvjdio-0 iFGIvU\"><div class=\"zgmi__iz4i4h-0 kyQiNz\"><svg viewBox=\"0 0 32 32\" class=\"Icon-c11n-8-64-1__sc-13llmml-0 inTCep IconArrowUpCircle-c11n-8-64-1__sc-1h3m26u-0 zgmi__iz4i4h-2 cmKYGM QMGIo\" aria-hidden=\"true\" focusable=\"false\" role=\"img\"><title>Arrow Up</title><path stroke=\"none\" d=\"M16 2a14 14 0 1014 14A14 14 0 0016 2zm7.69 15.69l-6.89 7a1.13 1.13 0 01-.8.31 1.09 1.09 0 01-.8-.31l-6.89-7a1.07 1.07 0 010-1.5 1 1 0 011.48 0L15 21.5V8a1 1 0 112 0v13.5l5.22-5.31a1 1 0 011.48 0 1.07 1.07 0 01-.01 1.5z\"></path></svg><span class=\"VisuallyHidden-c11n-8-64-1__sc-t8tewe-0 higCPc\">up</span>0.17 %</div></td><td class=\"StyledTableCell-c11n-8-64-1__sc-1mvjdio-0 iFGIvU\"><div class=\"zgmi__sc-1gaok4s-0 hZgvrA\"><span>7.36 %</span></div></td><td class=\"StyledTableCell-c11n-8-64-1__sc-1mvjdio-0 iFGIvU\"><div class=\"zgmi__iz4i4h-0 kyQiNz\"><svg viewBox=\"0 0 32 32\" class=\"Icon-c11n-8-64-1__sc-13llmml-0 inTCep IconArrowUpCircle-c11n-8-64-1__sc-1h3m26u-0 zgmi__iz4i4h-2 cmKYGM QMGIo\" aria-hidden=\"true\" focusable=\"false\" role=\"img\"><title>Arrow Up</title><path stroke=\"none\" d=\"M16 2a14 14 0 1014 14A14 14 0 0016 2zm7.69 15.69l-6.89 7a1.13 1.13 0 01-.8.31 1.09 1.09 0 01-.8-.31l-6.89-7a1.07 1.07 0 010-1.5 1 1 0 011.48 0L15 21.5V8a1 1 0 112 0v13.5l5.22-5.31a1 1 0 011.48 0 1.07 1.07 0 01-.01 1.5z\"></path></svg><span class=\"VisuallyHidden-c11n-8-64-1__sc-t8tewe-0 higCPc\">up</span>0.17 %</div></td></tr><tr class=\"StyledTableRow-c11n-8-64-1__sc-1gk7etl-0 ijzRLM\"><th scope=\"row\" class=\"StyledTableCell-c11n-8-64-1__sc-1mvjdio-0 StyledTableHeaderCell-c11n-8-64-1__sc-j48v56-0 fHuYaj\"><div class=\"zgmi__sc-1nq68fd-0 kLoDFU\"><a href=\"https://www.zillow.com/mortgage-rates/20-year-fixed\" class=\"Anchor-c11n-8-64-1__sc-hn4bge-0 fCrkWm\">20-Year Fixed Rate</a></div></th><td class=\"StyledTableCell-c11n-8-64-1__sc-1mvjdio-0 iFGIvU\"><div class=\"zgmi__sc-1gaok4s-0 hZgvrA\"><span>7.01 %</span></div></td><td class=\"StyledTableCell-c11n-8-64-1__sc-1mvjdio-0 iFGIvU\"><div class=\"zgmi__iz4i4h-0 kyQiNz\"><svg viewBox=\"0 0 32 32\" class=\"Icon-c11n-8-64-1__sc-13llmml-0 inTCep IconArrowUpCircle-c11n-8-64-1__sc-1h3m26u-0 zgmi__iz4i4h-2 cmKYGM QMGIo\" aria-hidden=\"true\" focusable=\"false\" role=\"img\"><title>Arrow Up</title><path stroke=\"none\" d=\"M16 2a14 14 0 1014 14A14 14 0 0016 2zm7.69 15.69l-6.89 7a1.13 1.13 0 01-.8.31 1.09 1.09 0 01-.8-.31l-6.89-7a1.07 1.07 0 010-1.5 1 1 0 011.48 0L15 21.5V8a1 1 0 112 0v13.5l5.22-5.31a1 1 0 011.48 0 1.07 1.07 0 01-.01 1.5z\"></path></svg><span class=\"VisuallyHidden-c11n-8-64-1__sc-t8tewe-0 higCPc\">up</span>0.17 %</div></td><td class=\"StyledTableCell-c11n-8-64-1__sc-1mvjdio-0 iFGIvU\"><div class=\"zgmi__sc-1gaok4s-0 hZgvrA\"><span>7.11 %</span></div></td><td class=\"StyledTableCell-c11n-8-64-1__sc-1mvjdio-0 iFGIvU\"><div class=\"zgmi__iz4i4h-0 kyQiNz\"><svg viewBox=\"0 0 32 32\" class=\"Icon-c11n-8-64-1__sc-13llmml-0 inTCep IconArrowUpCircle-c11n-8-64-1__sc-1h3m26u-0 zgmi__iz4i4h-2 cmKYGM QMGIo\" aria-hidden=\"true\" focusable=\"false\" role=\"img\"><title>Arrow Up</title><path stroke=\"none\" d=\"M16 2a14 14 0 1014 14A14 14 0 0016 2zm7.69 15.69l-6.89 7a1.13 1.13 0 01-.8.31 1.09 1.09 0 01-.8-.31l-6.89-7a1.07 1.07 0 010-1.5 1 1 0 011.48 0L15 21.5V8a1 1 0 112 0v13.5l5.22-5.31a1 1 0 011.48 0 1.07 1.07 0 01-.01 1.5z\"></path></svg><span class=\"VisuallyHidden-c11n-8-64-1__sc-t8tewe-0 higCPc\">up</span>0.16 %</div></td></tr><tr class=\"StyledTableRow-c11n-8-64-1__sc-1gk7etl-0 ijzRLM\"><th scope=\"row\" class=\"StyledTableCell-c11n-8-64-1__sc-1mvjdio-0 StyledTableHeaderCell-c11n-8-64-1__sc-j48v56-0 fHuYaj\"><div class=\"zgmi__sc-1nq68fd-0 kLoDFU\"><a href=\"https://www.zillow.com/mortgage-rates/15-year-fixed\" class=\"Anchor-c11n-8-64-1__sc-hn4bge-0 fCrkWm\">15-Year Fixed Rate</a></div></th><td class=\"StyledTableCell-c11n-8-64-1__sc-1mvjdio-0 iFGIvU\"><div class=\"zgmi__sc-1gaok4s-0 hZgvrA\"><span>6.53 %</span></div></td><td class=\"StyledTableCell-c11n-8-64-1__sc-1mvjdio-0 iFGIvU\"><div class=\"zgmi__iz4i4h-0 kyQiNz\"><svg viewBox=\"0 0 32 32\" class=\"Icon-c11n-8-64-1__sc-13llmml-0 inTCep IconArrowUpCircle-c11n-8-64-1__sc-1h3m26u-0 zgmi__iz4i4h-2 cmKYGM QMGIo\" aria-hidden=\"true\" focusable=\"false\" role=\"img\"><title>Arrow Up</title><path stroke=\"none\" d=\"M16 2a14 14 0 1014 14A14 14 0 0016 2zm7.69 15.69l-6.89 7a1.13 1.13 0 01-.8.31 1.09 1.09 0 01-.8-.31l-6.89-7a1.07 1.07 0 010-1.5 1 1 0 011.48 0L15 21.5V8a1 1 0 112 0v13.5l5.22-5.31a1 1 0 011.48 0 1.07 1.07 0 01-.01 1.5z\"></path></svg><span class=\"VisuallyHidden-c11n-8-64-1__sc-t8tewe-0 higCPc\">up</span>0.13 %</div></td><td class=\"StyledTableCell-c11n-8-64-1__sc-1mvjdio-0 iFGIvU\"><div class=\"zgmi__sc-1gaok4s-0 hZgvrA\"><span>6.67 %</span></div></td><td class=\"StyledTableCell-c11n-8-64-1__sc-1mvjdio-0 iFGIvU\"><div class=\"zgmi__iz4i4h-0 kyQiNz\"><svg viewBox=\"0 0 32 32\" class=\"Icon-c11n-8-64-1__sc-13llmml-0 inTCep IconArrowUpCircle-c11n-8-64-1__sc-1h3m26u-0 zgmi__iz4i4h-2 cmKYGM QMGIo\" aria-hidden=\"true\" focusable=\"false\" role=\"img\"><title>Arrow Up</title><path stroke=\"none\" d=\"M16 2a14 14 0 1014 14A14 14 0 0016 2zm7.69 15.69l-6.89 7a1.13 1.13 0 01-.8.31 1.09 1.09 0 01-.8-.31l-6.89-7a1.07 1.07 0 010-1.5 1 1 0 011.48 0L15 21.5V8a1 1 0 112 0v13.5l5.22-5.31a1 1 0 011.48 0 1.07 1.07 0 01-.01 1.5z\"></path></svg><span class=\"VisuallyHidden-c11n-8-64-1__sc-t8tewe-0 higCPc\">up</span>0.13 %</div></td></tr><tr class=\"StyledTableRow-c11n-8-64-1__sc-1gk7etl-0 ijzRLM\"><th scope=\"row\" class=\"StyledTableCell-c11n-8-64-1__sc-1mvjdio-0 StyledTableHeaderCell-c11n-8-64-1__sc-j48v56-0 fHuYaj\"><div class=\"zgmi__sc-1nq68fd-0 kLoDFU\"><a href=\"https://www.zillow.com/mortgage-rates/10-year-fixed\" class=\"Anchor-c11n-8-64-1__sc-hn4bge-0 fCrkWm\">10-Year Fixed Rate</a></div></th><td class=\"StyledTableCell-c11n-8-64-1__sc-1mvjdio-0 iFGIvU\"><div class=\"zgmi__sc-1gaok4s-0 hZgvrA\"><span>6.53 %</span></div></td><td class=\"StyledTableCell-c11n-8-64-1__sc-1mvjdio-0 iFGIvU\"><div class=\"zgmi__iz4i4h-0 kyQiNz\"><svg viewBox=\"0 0 32 32\" class=\"Icon-c11n-8-64-1__sc-13llmml-0 inTCep IconArrowUpCircle-c11n-8-64-1__sc-1h3m26u-0 zgmi__iz4i4h-2 cmKYGM QMGIo\" aria-hidden=\"true\" focusable=\"false\" role=\"img\"><title>Arrow Up</title><path stroke=\"none\" d=\"M16 2a14 14 0 1014 14A14 14 0 0016 2zm7.69 15.69l-6.89 7a1.13 1.13 0 01-.8.31 1.09 1.09 0 01-.8-.31l-6.89-7a1.07 1.07 0 010-1.5 1 1 0 011.48 0L15 21.5V8a1 1 0 112 0v13.5l5.22-5.31a1 1 0 011.48 0 1.07 1.07 0 01-.01 1.5z\"></path></svg><span class=\"VisuallyHidden-c11n-8-64-1__sc-t8tewe-0 higCPc\">up</span>0.11 %</div></td><td class=\"StyledTableCell-c11n-8-64-1__sc-1mvjdio-0 iFGIvU\"><div class=\"zgmi__sc-1gaok4s-0 hZgvrA\"><span>6.73 %</span></div></td><td class=\"StyledTableCell-c11n-8-64-1__sc-1mvjdio-0 iFGIvU\"><div class=\"zgmi__iz4i4h-0 kyQiNz\"><svg viewBox=\"0 0 32 32\" class=\"Icon-c11n-8-64-1__sc-13llmml-0 inTCep IconArrowUpCircle-c11n-8-64-1__sc-1h3m26u-0 zgmi__iz4i4h-2 cmKYGM QMGIo\" aria-hidden=\"true\" focusable=\"false\" role=\"img\"><title>Arrow Up</title><path stroke=\"none\" d=\"M16 2a14 14 0 1014 14A14 14 0 0016 2zm7.69 15.69l-6.89 7a1.13 1.13 0 01-.8.31 1.09 1.09 0 01-.8-.31l-6.89-7a1.07 1.07 0 010-1.5 1 1 0 011.48 0L15 21.5V8a1 1 0 112 0v13.5l5.22-5.31a1 1 0 011.48 0 1.07 1.07 0 01-.01 1.5z\"></path></svg><span class=\"VisuallyHidden-c11n-8-64-1__sc-t8tewe-0 higCPc\">up</span>0.11 %</div></td></tr><tr class=\"StyledTableRow-c11n-8-64-1__sc-1gk7etl-0 ijzRLM\"><th scope=\"row\" class=\"StyledTableCell-c11n-8-64-1__sc-1mvjdio-0 StyledTableHeaderCell-c11n-8-64-1__sc-j48v56-0 fHuYaj\"><div class=\"zgmi__sc-1nq68fd-0 kLoDFU\"><a href=\"https://www.zillow.com/mortgage-rates/7-year-arm\" class=\"Anchor-c11n-8-64-1__sc-hn4bge-0 fCrkWm\">7-year ARM</a></div></th><td class=\"StyledTableCell-c11n-8-64-1__sc-1mvjdio-0 iFGIvU\"><div class=\"zgmi__sc-1gaok4s-0 hZgvrA\"><span>7.52 %</span></div></td><td class=\"StyledTableCell-c11n-8-64-1__sc-1mvjdio-0 iFGIvU\"><div class=\"zgmi__iz4i4h-0 kyQiNz\"><svg viewBox=\"0 0 32 32\" class=\"Icon-c11n-8-64-1__sc-13llmml-0 inTCep IconArrowUpCircle-c11n-8-64-1__sc-1h3m26u-0 zgmi__iz4i4h-2 cmKYGM QMGIo\" aria-hidden=\"true\" focusable=\"false\" role=\"img\"><title>Arrow Up</title><path stroke=\"none\" d=\"M16 2a14 14 0 1014 14A14 14 0 0016 2zm7.69 15.69l-6.89 7a1.13 1.13 0 01-.8.31 1.09 1.09 0 01-.8-.31l-6.89-7a1.07 1.07 0 010-1.5 1 1 0 011.48 0L15 21.5V8a1 1 0 112 0v13.5l5.22-5.31a1 1 0 011.48 0 1.07 1.07 0 01-.01 1.5z\"></path></svg><span class=\"VisuallyHidden-c11n-8-64-1__sc-t8tewe-0 higCPc\">up</span>0.03 %</div></td><td class=\"StyledTableCell-c11n-8-64-1__sc-1mvjdio-0 iFGIvU\"><div class=\"zgmi__sc-1gaok4s-0 hZgvrA\"><span>7.99 %</span></div></td><td class=\"StyledTableCell-c11n-8-64-1__sc-1mvjdio-0 iFGIvU\"><div class=\"zgmi__iz4i4h-0 kyQiNz\"><svg viewBox=\"0 0 32 32\" class=\"Icon-c11n-8-64-1__sc-13llmml-0 inTCep zgmi__iz4i4h-1 hVWoZl\" aria-hidden=\"true\" focusable=\"false\" role=\"img\"><title>Arrow Down</title><path stroke=\"none\" d=\"M16 2a14 14 0 1014 14A14 14 0 0016 2zm7.69 15.69l-6.89 7a1.13 1.13 0 01-.8.31 1.09 1.09 0 01-.8-.31l-6.89-7a1.07 1.07 0 010-1.5 1 1 0 011.48 0L15 21.5V8a1 1 0 112 0v13.5l5.22-5.31a1 1 0 011.48 0 1.07 1.07 0 01-.01 1.5z\"></path></svg><span class=\"VisuallyHidden-c11n-8-64-1__sc-t8tewe-0 higCPc\">down</span>0.01 %</div></td></tr><tr class=\"StyledTableRow-c11n-8-64-1__sc-1gk7etl-0 ijzRLM\"><th scope=\"row\" class=\"StyledTableCell-c11n-8-64-1__sc-1mvjdio-0 StyledTableHeaderCell-c11n-8-64-1__sc-j48v56-0 fHuYaj\"><div class=\"zgmi__sc-1nq68fd-0 kLoDFU\"><a href=\"https://www.zillow.com/mortgage-rates/5-year-arm\" class=\"Anchor-c11n-8-64-1__sc-hn4bge-0 fCrkWm\">5-year ARM</a></div></th><td class=\"StyledTableCell-c11n-8-64-1__sc-1mvjdio-0 iFGIvU\"><div class=\"zgmi__sc-1gaok4s-0 hZgvrA\"><span>7.13 %</span></div></td><td class=\"StyledTableCell-c11n-8-64-1__sc-1mvjdio-0 iFGIvU\"><div class=\"zgmi__iz4i4h-0 kyQiNz\"><svg viewBox=\"0 0 32 32\" class=\"Icon-c11n-8-64-1__sc-13llmml-0 inTCep zgmi__iz4i4h-1 hVWoZl\" aria-hidden=\"true\" focusable=\"false\" role=\"img\"><title>Arrow Down</title><path stroke=\"none\" d=\"M16 2a14 14 0 1014 14A14 14 0 0016 2zm7.69 15.69l-6.89 7a1.13 1.13 0 01-.8.31 1.09 1.09 0 01-.8-.31l-6.89-7a1.07 1.07 0 010-1.5 1 1 0 011.48 0L15 21.5V8a1 1 0 112 0v13.5l5.22-5.31a1 1 0 011.48 0 1.07 1.07 0 01-.01 1.5z\"></path></svg><span class=\"VisuallyHidden-c11n-8-64-1__sc-t8tewe-0 higCPc\">down</span>0.22 %</div></td><td class=\"StyledTableCell-c11n-8-64-1__sc-1mvjdio-0 iFGIvU\"><div class=\"zgmi__sc-1gaok4s-0 hZgvrA\"><span>7.92 %</span></div></td><td class=\"StyledTableCell-c11n-8-64-1__sc-1mvjdio-0 iFGIvU\"><div class=\"zgmi__iz4i4h-0 kyQiNz\"><svg viewBox=\"0 0 32 32\" class=\"Icon-c11n-8-64-1__sc-13llmml-0 inTCep zgmi__iz4i4h-1 hVWoZl\" aria-hidden=\"true\" focusable=\"false\" role=\"img\"><title>Arrow Down</title><path stroke=\"none\" d=\"M16 2a14 14 0 1014 14A14 14 0 0016 2zm7.69 15.69l-6.89 7a1.13 1.13 0 01-.8.31 1.09 1.09 0 01-.8-.31l-6.89-7a1.07 1.07 0 010-1.5 1 1 0 011.48 0L15 21.5V8a1 1 0 112 0v13.5l5.22-5.31a1 1 0 011.48 0 1.07 1.07 0 01-.01 1.5z\"></path></svg><span class=\"VisuallyHidden-c11n-8-64-1__sc-t8tewe-0 higCPc\">down</span>0.11 %</div></td></tr><tr class=\"StyledTableRow-c11n-8-64-1__sc-1gk7etl-0 ijzRLM\"><th scope=\"row\" class=\"StyledTableCell-c11n-8-64-1__sc-1mvjdio-0 StyledTableHeaderCell-c11n-8-64-1__sc-j48v56-0 fHuYaj\"><div class=\"zgmi__sc-1nq68fd-0 kLoDFU\"><a href=\"https://www.zillow.com/mortgage-rates/3-year-arm\" class=\"Anchor-c11n-8-64-1__sc-hn4bge-0 fCrkWm\">3-year ARM</a></div></th><td class=\"StyledTableCell-c11n-8-64-1__sc-1mvjdio-0 iFGIvU\">--</td><td class=\"StyledTableCell-c11n-8-64-1__sc-1mvjdio-0 iFGIvU\">0.00 %</td><td class=\"StyledTableCell-c11n-8-64-1__sc-1mvjdio-0 iFGIvU\">--</td><td class=\"StyledTableCell-c11n-8-64-1__sc-1mvjdio-0 iFGIvU\">0.00 %</td></tr></tbody></table>'"
   ]
  },
  {
   "cell_type": "code",
   "execution_count": 3,
   "id": "8531e1f9",
   "metadata": {},
   "outputs": [],
   "source": [
    "df = pd.read_html(url)"
   ]
  },
  {
   "cell_type": "code",
   "execution_count": 4,
   "id": "0196f450",
   "metadata": {},
   "outputs": [],
   "source": [
    "dfconforming = df[0]"
   ]
  },
  {
   "cell_type": "code",
   "execution_count": 5,
   "id": "47b678fe",
   "metadata": {},
   "outputs": [],
   "source": [
    "dfconforming['1W CHANGE'] = dfconforming['1W CHANGE'].str.replace('Arrow Upup', '+').str.replace('Arrow Downdown', '-')\n",
    "dfconforming['1W CHANGE.1'] = dfconforming['1W CHANGE.1'].str.replace('Arrow Upup', '+').str.replace('Arrow Downdown', '-')"
   ]
  },
  {
   "cell_type": "code",
   "execution_count": 6,
   "id": "f4c6eab2",
   "metadata": {},
   "outputs": [
    {
     "data": {
      "text/html": [
       "<div>\n",
       "<style scoped>\n",
       "    .dataframe tbody tr th:only-of-type {\n",
       "        vertical-align: middle;\n",
       "    }\n",
       "\n",
       "    .dataframe tbody tr th {\n",
       "        vertical-align: top;\n",
       "    }\n",
       "\n",
       "    .dataframe thead th {\n",
       "        text-align: right;\n",
       "    }\n",
       "</style>\n",
       "<table border=\"1\" class=\"dataframe\">\n",
       "  <thead>\n",
       "    <tr style=\"text-align: right;\">\n",
       "      <th></th>\n",
       "      <th>PROGRAM</th>\n",
       "      <th>RATE</th>\n",
       "      <th>1W CHANGE</th>\n",
       "      <th>APR</th>\n",
       "      <th>1W CHANGE.1</th>\n",
       "    </tr>\n",
       "  </thead>\n",
       "  <tbody>\n",
       "    <tr>\n",
       "      <th>0</th>\n",
       "      <td>30-Year Fixed Rate</td>\n",
       "      <td>7.28 %</td>\n",
       "      <td>+0.17 %</td>\n",
       "      <td>7.36 %</td>\n",
       "      <td>+0.17 %</td>\n",
       "    </tr>\n",
       "    <tr>\n",
       "      <th>1</th>\n",
       "      <td>20-Year Fixed Rate</td>\n",
       "      <td>7.01 %</td>\n",
       "      <td>+0.17 %</td>\n",
       "      <td>7.11 %</td>\n",
       "      <td>+0.16 %</td>\n",
       "    </tr>\n",
       "    <tr>\n",
       "      <th>2</th>\n",
       "      <td>15-Year Fixed Rate</td>\n",
       "      <td>6.53 %</td>\n",
       "      <td>+0.13 %</td>\n",
       "      <td>6.67 %</td>\n",
       "      <td>+0.13 %</td>\n",
       "    </tr>\n",
       "    <tr>\n",
       "      <th>3</th>\n",
       "      <td>10-Year Fixed Rate</td>\n",
       "      <td>6.53 %</td>\n",
       "      <td>+0.11 %</td>\n",
       "      <td>6.73 %</td>\n",
       "      <td>+0.11 %</td>\n",
       "    </tr>\n",
       "    <tr>\n",
       "      <th>4</th>\n",
       "      <td>7-year ARM</td>\n",
       "      <td>7.52 %</td>\n",
       "      <td>+0.03 %</td>\n",
       "      <td>7.99 %</td>\n",
       "      <td>-0.01 %</td>\n",
       "    </tr>\n",
       "    <tr>\n",
       "      <th>5</th>\n",
       "      <td>5-year ARM</td>\n",
       "      <td>7.13 %</td>\n",
       "      <td>-0.22 %</td>\n",
       "      <td>7.92 %</td>\n",
       "      <td>-0.11 %</td>\n",
       "    </tr>\n",
       "    <tr>\n",
       "      <th>6</th>\n",
       "      <td>3-year ARM</td>\n",
       "      <td>--</td>\n",
       "      <td>0.00 %</td>\n",
       "      <td>--</td>\n",
       "      <td>0.00 %</td>\n",
       "    </tr>\n",
       "  </tbody>\n",
       "</table>\n",
       "</div>"
      ],
      "text/plain": [
       "              PROGRAM    RATE 1W CHANGE     APR 1W CHANGE.1\n",
       "0  30-Year Fixed Rate  7.28 %   +0.17 %  7.36 %     +0.17 %\n",
       "1  20-Year Fixed Rate  7.01 %   +0.17 %  7.11 %     +0.16 %\n",
       "2  15-Year Fixed Rate  6.53 %   +0.13 %  6.67 %     +0.13 %\n",
       "3  10-Year Fixed Rate  6.53 %   +0.11 %  6.73 %     +0.11 %\n",
       "4          7-year ARM  7.52 %   +0.03 %  7.99 %     -0.01 %\n",
       "5          5-year ARM  7.13 %   -0.22 %  7.92 %     -0.11 %\n",
       "6          3-year ARM      --    0.00 %      --      0.00 %"
      ]
     },
     "execution_count": 6,
     "metadata": {},
     "output_type": "execute_result"
    }
   ],
   "source": [
    "dfconforming"
   ]
  },
  {
   "cell_type": "code",
   "execution_count": 7,
   "id": "58bb4f13",
   "metadata": {},
   "outputs": [],
   "source": [
    "dfconforming['TYPE'] ='conforming'"
   ]
  },
  {
   "cell_type": "code",
   "execution_count": 8,
   "id": "b63b6cf3",
   "metadata": {},
   "outputs": [],
   "source": [
    "dfconforming = dfconforming[['PROGRAM','TYPE','RATE','APR']]"
   ]
  },
  {
   "cell_type": "code",
   "execution_count": 9,
   "id": "23323cc8",
   "metadata": {},
   "outputs": [
    {
     "data": {
      "text/html": [
       "<div>\n",
       "<style scoped>\n",
       "    .dataframe tbody tr th:only-of-type {\n",
       "        vertical-align: middle;\n",
       "    }\n",
       "\n",
       "    .dataframe tbody tr th {\n",
       "        vertical-align: top;\n",
       "    }\n",
       "\n",
       "    .dataframe thead th {\n",
       "        text-align: right;\n",
       "    }\n",
       "</style>\n",
       "<table border=\"1\" class=\"dataframe\">\n",
       "  <thead>\n",
       "    <tr style=\"text-align: right;\">\n",
       "      <th></th>\n",
       "      <th>PROGRAM</th>\n",
       "      <th>TYPE</th>\n",
       "      <th>RATE</th>\n",
       "      <th>APR</th>\n",
       "    </tr>\n",
       "  </thead>\n",
       "  <tbody>\n",
       "    <tr>\n",
       "      <th>0</th>\n",
       "      <td>30-Year Fixed Rate</td>\n",
       "      <td>conforming</td>\n",
       "      <td>7.28 %</td>\n",
       "      <td>7.36 %</td>\n",
       "    </tr>\n",
       "    <tr>\n",
       "      <th>1</th>\n",
       "      <td>20-Year Fixed Rate</td>\n",
       "      <td>conforming</td>\n",
       "      <td>7.01 %</td>\n",
       "      <td>7.11 %</td>\n",
       "    </tr>\n",
       "    <tr>\n",
       "      <th>2</th>\n",
       "      <td>15-Year Fixed Rate</td>\n",
       "      <td>conforming</td>\n",
       "      <td>6.53 %</td>\n",
       "      <td>6.67 %</td>\n",
       "    </tr>\n",
       "    <tr>\n",
       "      <th>3</th>\n",
       "      <td>10-Year Fixed Rate</td>\n",
       "      <td>conforming</td>\n",
       "      <td>6.53 %</td>\n",
       "      <td>6.73 %</td>\n",
       "    </tr>\n",
       "    <tr>\n",
       "      <th>4</th>\n",
       "      <td>7-year ARM</td>\n",
       "      <td>conforming</td>\n",
       "      <td>7.52 %</td>\n",
       "      <td>7.99 %</td>\n",
       "    </tr>\n",
       "    <tr>\n",
       "      <th>5</th>\n",
       "      <td>5-year ARM</td>\n",
       "      <td>conforming</td>\n",
       "      <td>7.13 %</td>\n",
       "      <td>7.92 %</td>\n",
       "    </tr>\n",
       "    <tr>\n",
       "      <th>6</th>\n",
       "      <td>3-year ARM</td>\n",
       "      <td>conforming</td>\n",
       "      <td>--</td>\n",
       "      <td>--</td>\n",
       "    </tr>\n",
       "  </tbody>\n",
       "</table>\n",
       "</div>"
      ],
      "text/plain": [
       "              PROGRAM        TYPE    RATE     APR\n",
       "0  30-Year Fixed Rate  conforming  7.28 %  7.36 %\n",
       "1  20-Year Fixed Rate  conforming  7.01 %  7.11 %\n",
       "2  15-Year Fixed Rate  conforming  6.53 %  6.67 %\n",
       "3  10-Year Fixed Rate  conforming  6.53 %  6.73 %\n",
       "4          7-year ARM  conforming  7.52 %  7.99 %\n",
       "5          5-year ARM  conforming  7.13 %  7.92 %\n",
       "6          3-year ARM  conforming      --      --"
      ]
     },
     "execution_count": 9,
     "metadata": {},
     "output_type": "execute_result"
    }
   ],
   "source": [
    "dfconforming"
   ]
  },
  {
   "cell_type": "markdown",
   "id": "1d5e4a7b",
   "metadata": {},
   "source": [
    "## Government loans"
   ]
  },
  {
   "cell_type": "code",
   "execution_count": 10,
   "id": "5baa5e6f",
   "metadata": {},
   "outputs": [],
   "source": [
    "url1 ='<table aria-label=\"Government loans average mortgage rates\" class=\"StyledTable-c11n-8-64-1__sc-b979s8-0 kMPsPq\"><thead class=\"StyledTableHeader-c11n-8-64-1__sc-1ba0xxh-0 cgKfgl\"><tr class=\"StyledTableRow-c11n-8-64-1__sc-1gk7etl-0 ijzRLM\"><th scope=\"col\" class=\"StyledTableCell-c11n-8-64-1__sc-1mvjdio-0 StyledTableHeaderCell-c11n-8-64-1__sc-j48v56-0 fHuYaj\">PROGRAM</th><th scope=\"col\" class=\"StyledTableCell-c11n-8-64-1__sc-1mvjdio-0 StyledTableHeaderCell-c11n-8-64-1__sc-j48v56-0 iFGIvU\">RATE</th><th scope=\"col\" class=\"StyledTableCell-c11n-8-64-1__sc-1mvjdio-0 StyledTableHeaderCell-c11n-8-64-1__sc-j48v56-0 iFGIvU\">1W CHANGE</th><th scope=\"col\" class=\"StyledTableCell-c11n-8-64-1__sc-1mvjdio-0 StyledTableHeaderCell-c11n-8-64-1__sc-j48v56-0 iFGIvU\">APR</th><th scope=\"col\" class=\"StyledTableCell-c11n-8-64-1__sc-1mvjdio-0 StyledTableHeaderCell-c11n-8-64-1__sc-j48v56-0 iFGIvU\">1W CHANGE</th></tr></thead><tbody class=\"StyledTableBody-c11n-8-64-1__sc-8i1s74-0 hLYlju\"><tr class=\"StyledTableRow-c11n-8-64-1__sc-1gk7etl-0 ijzRLM\"><th scope=\"row\" class=\"StyledTableCell-c11n-8-64-1__sc-1mvjdio-0 StyledTableHeaderCell-c11n-8-64-1__sc-j48v56-0 fHuYaj\"><div class=\"zgmi__sc-1nq68fd-0 kLoDFU\"><a href=\"https://www.zillow.com/mortgage-rates/30-year-fixed\" class=\"Anchor-c11n-8-64-1__sc-hn4bge-0 fCrkWm\">30-Year Fixed Rate FHA</a></div></th><td class=\"StyledTableCell-c11n-8-64-1__sc-1mvjdio-0 iFGIvU\"><div class=\"zgmi__sc-1gaok4s-0 hZgvrA\"><span>6.60 %</span></div></td><td class=\"StyledTableCell-c11n-8-64-1__sc-1mvjdio-0 iFGIvU\"><div class=\"zgmi__iz4i4h-0 kyQiNz\"><svg viewBox=\"0 0 32 32\" class=\"Icon-c11n-8-64-1__sc-13llmml-0 inTCep IconArrowUpCircle-c11n-8-64-1__sc-1h3m26u-0 zgmi__iz4i4h-2 cmKYGM QMGIo\" aria-hidden=\"true\" focusable=\"false\" role=\"img\"><title>Arrow Up</title><path stroke=\"none\" d=\"M16 2a14 14 0 1014 14A14 14 0 0016 2zm7.69 15.69l-6.89 7a1.13 1.13 0 01-.8.31 1.09 1.09 0 01-.8-.31l-6.89-7a1.07 1.07 0 010-1.5 1 1 0 011.48 0L15 21.5V8a1 1 0 112 0v13.5l5.22-5.31a1 1 0 011.48 0 1.07 1.07 0 01-.01 1.5z\"></path></svg><span class=\"VisuallyHidden-c11n-8-64-1__sc-t8tewe-0 higCPc\">up</span>0.23 %</div></td><td class=\"StyledTableCell-c11n-8-64-1__sc-1mvjdio-0 iFGIvU\"><div class=\"zgmi__sc-1gaok4s-0 hZgvrA\"><span>7.72 %</span></div></td><td class=\"StyledTableCell-c11n-8-64-1__sc-1mvjdio-0 iFGIvU\"><div class=\"zgmi__iz4i4h-0 kyQiNz\"><svg viewBox=\"0 0 32 32\" class=\"Icon-c11n-8-64-1__sc-13llmml-0 inTCep IconArrowUpCircle-c11n-8-64-1__sc-1h3m26u-0 zgmi__iz4i4h-2 cmKYGM QMGIo\" aria-hidden=\"true\" focusable=\"false\" role=\"img\"><title>Arrow Up</title><path stroke=\"none\" d=\"M16 2a14 14 0 1014 14A14 14 0 0016 2zm7.69 15.69l-6.89 7a1.13 1.13 0 01-.8.31 1.09 1.09 0 01-.8-.31l-6.89-7a1.07 1.07 0 010-1.5 1 1 0 011.48 0L15 21.5V8a1 1 0 112 0v13.5l5.22-5.31a1 1 0 011.48 0 1.07 1.07 0 01-.01 1.5z\"></path></svg><span class=\"VisuallyHidden-c11n-8-64-1__sc-t8tewe-0 higCPc\">up</span>0.23 %</div></td></tr><tr class=\"StyledTableRow-c11n-8-64-1__sc-1gk7etl-0 ijzRLM\"><th scope=\"row\" class=\"StyledTableCell-c11n-8-64-1__sc-1mvjdio-0 StyledTableHeaderCell-c11n-8-64-1__sc-j48v56-0 fHuYaj\"><div class=\"zgmi__sc-1nq68fd-0 kLoDFU\"><a href=\"https://www.zillow.com/mortgage-rates/30-year-fixed\" class=\"Anchor-c11n-8-64-1__sc-hn4bge-0 fCrkWm\">30-Year Fixed Rate VA</a></div></th><td class=\"StyledTableCell-c11n-8-64-1__sc-1mvjdio-0 iFGIvU\"><div class=\"zgmi__sc-1gaok4s-0 hZgvrA\"><span>6.58 %</span></div></td><td class=\"StyledTableCell-c11n-8-64-1__sc-1mvjdio-0 iFGIvU\"><div class=\"zgmi__iz4i4h-0 kyQiNz\"><svg viewBox=\"0 0 32 32\" class=\"Icon-c11n-8-64-1__sc-13llmml-0 inTCep IconArrowUpCircle-c11n-8-64-1__sc-1h3m26u-0 zgmi__iz4i4h-2 cmKYGM QMGIo\" aria-hidden=\"true\" focusable=\"false\" role=\"img\"><title>Arrow Up</title><path stroke=\"none\" d=\"M16 2a14 14 0 1014 14A14 14 0 0016 2zm7.69 15.69l-6.89 7a1.13 1.13 0 01-.8.31 1.09 1.09 0 01-.8-.31l-6.89-7a1.07 1.07 0 010-1.5 1 1 0 011.48 0L15 21.5V8a1 1 0 112 0v13.5l5.22-5.31a1 1 0 011.48 0 1.07 1.07 0 01-.01 1.5z\"></path></svg><span class=\"VisuallyHidden-c11n-8-64-1__sc-t8tewe-0 higCPc\">up</span>0.27 %</div></td><td class=\"StyledTableCell-c11n-8-64-1__sc-1mvjdio-0 iFGIvU\"><div class=\"zgmi__sc-1gaok4s-0 hZgvrA\"><span>6.88 %</span></div></td><td class=\"StyledTableCell-c11n-8-64-1__sc-1mvjdio-0 iFGIvU\"><div class=\"zgmi__iz4i4h-0 kyQiNz\"><svg viewBox=\"0 0 32 32\" class=\"Icon-c11n-8-64-1__sc-13llmml-0 inTCep IconArrowUpCircle-c11n-8-64-1__sc-1h3m26u-0 zgmi__iz4i4h-2 cmKYGM QMGIo\" aria-hidden=\"true\" focusable=\"false\" role=\"img\"><title>Arrow Up</title><path stroke=\"none\" d=\"M16 2a14 14 0 1014 14A14 14 0 0016 2zm7.69 15.69l-6.89 7a1.13 1.13 0 01-.8.31 1.09 1.09 0 01-.8-.31l-6.89-7a1.07 1.07 0 010-1.5 1 1 0 011.48 0L15 21.5V8a1 1 0 112 0v13.5l5.22-5.31a1 1 0 011.48 0 1.07 1.07 0 01-.01 1.5z\"></path></svg><span class=\"VisuallyHidden-c11n-8-64-1__sc-t8tewe-0 higCPc\">up</span>0.31 %</div></td></tr><tr class=\"StyledTableRow-c11n-8-64-1__sc-1gk7etl-0 ijzRLM\"><th scope=\"row\" class=\"StyledTableCell-c11n-8-64-1__sc-1mvjdio-0 StyledTableHeaderCell-c11n-8-64-1__sc-j48v56-0 fHuYaj\"><div class=\"zgmi__sc-1nq68fd-0 kLoDFU\"><a href=\"https://www.zillow.com/mortgage-rates/15-year-fixed\" class=\"Anchor-c11n-8-64-1__sc-hn4bge-0 fCrkWm\">15-Year Fixed Rate FHA</a></div></th><td class=\"StyledTableCell-c11n-8-64-1__sc-1mvjdio-0 iFGIvU\"><div class=\"zgmi__sc-1gaok4s-0 hZgvrA\"><span>6.24 %</span></div></td><td class=\"StyledTableCell-c11n-8-64-1__sc-1mvjdio-0 iFGIvU\"><div class=\"zgmi__iz4i4h-0 kyQiNz\"><svg viewBox=\"0 0 32 32\" class=\"Icon-c11n-8-64-1__sc-13llmml-0 inTCep IconArrowUpCircle-c11n-8-64-1__sc-1h3m26u-0 zgmi__iz4i4h-2 cmKYGM QMGIo\" aria-hidden=\"true\" focusable=\"false\" role=\"img\"><title>Arrow Up</title><path stroke=\"none\" d=\"M16 2a14 14 0 1014 14A14 14 0 0016 2zm7.69 15.69l-6.89 7a1.13 1.13 0 01-.8.31 1.09 1.09 0 01-.8-.31l-6.89-7a1.07 1.07 0 010-1.5 1 1 0 011.48 0L15 21.5V8a1 1 0 112 0v13.5l5.22-5.31a1 1 0 011.48 0 1.07 1.07 0 01-.01 1.5z\"></path></svg><span class=\"VisuallyHidden-c11n-8-64-1__sc-t8tewe-0 higCPc\">up</span>0.15 %</div></td><td class=\"StyledTableCell-c11n-8-64-1__sc-1mvjdio-0 iFGIvU\"><div class=\"zgmi__sc-1gaok4s-0 hZgvrA\"><span>7.39 %</span></div></td><td class=\"StyledTableCell-c11n-8-64-1__sc-1mvjdio-0 iFGIvU\"><div class=\"zgmi__iz4i4h-0 kyQiNz\"><svg viewBox=\"0 0 32 32\" class=\"Icon-c11n-8-64-1__sc-13llmml-0 inTCep IconArrowUpCircle-c11n-8-64-1__sc-1h3m26u-0 zgmi__iz4i4h-2 cmKYGM QMGIo\" aria-hidden=\"true\" focusable=\"false\" role=\"img\"><title>Arrow Up</title><path stroke=\"none\" d=\"M16 2a14 14 0 1014 14A14 14 0 0016 2zm7.69 15.69l-6.89 7a1.13 1.13 0 01-.8.31 1.09 1.09 0 01-.8-.31l-6.89-7a1.07 1.07 0 010-1.5 1 1 0 011.48 0L15 21.5V8a1 1 0 112 0v13.5l5.22-5.31a1 1 0 011.48 0 1.07 1.07 0 01-.01 1.5z\"></path></svg><span class=\"VisuallyHidden-c11n-8-64-1__sc-t8tewe-0 higCPc\">up</span>0.15 %</div></td></tr><tr class=\"StyledTableRow-c11n-8-64-1__sc-1gk7etl-0 ijzRLM\"><th scope=\"row\" class=\"StyledTableCell-c11n-8-64-1__sc-1mvjdio-0 StyledTableHeaderCell-c11n-8-64-1__sc-j48v56-0 fHuYaj\"><div class=\"zgmi__sc-1nq68fd-0 kLoDFU\"><a href=\"https://www.zillow.com/mortgage-rates/15-year-fixed\" class=\"Anchor-c11n-8-64-1__sc-hn4bge-0 fCrkWm\">15-Year Fixed Rate VA</a></div></th><td class=\"StyledTableCell-c11n-8-64-1__sc-1mvjdio-0 iFGIvU\"><div class=\"zgmi__sc-1gaok4s-0 hZgvrA\"><span>6.27 %</span></div></td><td class=\"StyledTableCell-c11n-8-64-1__sc-1mvjdio-0 iFGIvU\"><div class=\"zgmi__iz4i4h-0 kyQiNz\"><svg viewBox=\"0 0 32 32\" class=\"Icon-c11n-8-64-1__sc-13llmml-0 inTCep IconArrowUpCircle-c11n-8-64-1__sc-1h3m26u-0 zgmi__iz4i4h-2 cmKYGM QMGIo\" aria-hidden=\"true\" focusable=\"false\" role=\"img\"><title>Arrow Up</title><path stroke=\"none\" d=\"M16 2a14 14 0 1014 14A14 14 0 0016 2zm7.69 15.69l-6.89 7a1.13 1.13 0 01-.8.31 1.09 1.09 0 01-.8-.31l-6.89-7a1.07 1.07 0 010-1.5 1 1 0 011.48 0L15 21.5V8a1 1 0 112 0v13.5l5.22-5.31a1 1 0 011.48 0 1.07 1.07 0 01-.01 1.5z\"></path></svg><span class=\"VisuallyHidden-c11n-8-64-1__sc-t8tewe-0 higCPc\">up</span>0.06 %</div></td><td class=\"StyledTableCell-c11n-8-64-1__sc-1mvjdio-0 iFGIvU\"><div class=\"zgmi__sc-1gaok4s-0 hZgvrA\"><span>6.81 %</span></div></td><td class=\"StyledTableCell-c11n-8-64-1__sc-1mvjdio-0 iFGIvU\"><div class=\"zgmi__iz4i4h-0 kyQiNz\"><svg viewBox=\"0 0 32 32\" class=\"Icon-c11n-8-64-1__sc-13llmml-0 inTCep IconArrowUpCircle-c11n-8-64-1__sc-1h3m26u-0 zgmi__iz4i4h-2 cmKYGM QMGIo\" aria-hidden=\"true\" focusable=\"false\" role=\"img\"><title>Arrow Up</title><path stroke=\"none\" d=\"M16 2a14 14 0 1014 14A14 14 0 0016 2zm7.69 15.69l-6.89 7a1.13 1.13 0 01-.8.31 1.09 1.09 0 01-.8-.31l-6.89-7a1.07 1.07 0 010-1.5 1 1 0 011.48 0L15 21.5V8a1 1 0 112 0v13.5l5.22-5.31a1 1 0 011.48 0 1.07 1.07 0 01-.01 1.5z\"></path></svg><span class=\"VisuallyHidden-c11n-8-64-1__sc-t8tewe-0 higCPc\">up</span>0.12 %</div></td></tr></tbody></table>'"
   ]
  },
  {
   "cell_type": "code",
   "execution_count": 11,
   "id": "e199279b",
   "metadata": {},
   "outputs": [],
   "source": [
    "df1 = pd.read_html(url1)"
   ]
  },
  {
   "cell_type": "code",
   "execution_count": 12,
   "id": "b974c8dc",
   "metadata": {},
   "outputs": [],
   "source": [
    "dfgov = df1[0]"
   ]
  },
  {
   "cell_type": "code",
   "execution_count": 13,
   "id": "2c4c1499",
   "metadata": {},
   "outputs": [
    {
     "data": {
      "text/html": [
       "<div>\n",
       "<style scoped>\n",
       "    .dataframe tbody tr th:only-of-type {\n",
       "        vertical-align: middle;\n",
       "    }\n",
       "\n",
       "    .dataframe tbody tr th {\n",
       "        vertical-align: top;\n",
       "    }\n",
       "\n",
       "    .dataframe thead th {\n",
       "        text-align: right;\n",
       "    }\n",
       "</style>\n",
       "<table border=\"1\" class=\"dataframe\">\n",
       "  <thead>\n",
       "    <tr style=\"text-align: right;\">\n",
       "      <th></th>\n",
       "      <th>PROGRAM</th>\n",
       "      <th>RATE</th>\n",
       "      <th>1W CHANGE</th>\n",
       "      <th>APR</th>\n",
       "      <th>1W CHANGE.1</th>\n",
       "    </tr>\n",
       "  </thead>\n",
       "  <tbody>\n",
       "    <tr>\n",
       "      <th>0</th>\n",
       "      <td>30-Year Fixed Rate FHA</td>\n",
       "      <td>6.60 %</td>\n",
       "      <td>Arrow Upup0.23 %</td>\n",
       "      <td>7.72 %</td>\n",
       "      <td>Arrow Upup0.23 %</td>\n",
       "    </tr>\n",
       "    <tr>\n",
       "      <th>1</th>\n",
       "      <td>30-Year Fixed Rate VA</td>\n",
       "      <td>6.58 %</td>\n",
       "      <td>Arrow Upup0.27 %</td>\n",
       "      <td>6.88 %</td>\n",
       "      <td>Arrow Upup0.31 %</td>\n",
       "    </tr>\n",
       "    <tr>\n",
       "      <th>2</th>\n",
       "      <td>15-Year Fixed Rate FHA</td>\n",
       "      <td>6.24 %</td>\n",
       "      <td>Arrow Upup0.15 %</td>\n",
       "      <td>7.39 %</td>\n",
       "      <td>Arrow Upup0.15 %</td>\n",
       "    </tr>\n",
       "    <tr>\n",
       "      <th>3</th>\n",
       "      <td>15-Year Fixed Rate VA</td>\n",
       "      <td>6.27 %</td>\n",
       "      <td>Arrow Upup0.06 %</td>\n",
       "      <td>6.81 %</td>\n",
       "      <td>Arrow Upup0.12 %</td>\n",
       "    </tr>\n",
       "  </tbody>\n",
       "</table>\n",
       "</div>"
      ],
      "text/plain": [
       "                  PROGRAM    RATE         1W CHANGE     APR       1W CHANGE.1\n",
       "0  30-Year Fixed Rate FHA  6.60 %  Arrow Upup0.23 %  7.72 %  Arrow Upup0.23 %\n",
       "1   30-Year Fixed Rate VA  6.58 %  Arrow Upup0.27 %  6.88 %  Arrow Upup0.31 %\n",
       "2  15-Year Fixed Rate FHA  6.24 %  Arrow Upup0.15 %  7.39 %  Arrow Upup0.15 %\n",
       "3   15-Year Fixed Rate VA  6.27 %  Arrow Upup0.06 %  6.81 %  Arrow Upup0.12 %"
      ]
     },
     "execution_count": 13,
     "metadata": {},
     "output_type": "execute_result"
    }
   ],
   "source": [
    "dfgov"
   ]
  },
  {
   "cell_type": "code",
   "execution_count": 14,
   "id": "0ffd040f",
   "metadata": {},
   "outputs": [],
   "source": [
    "dfgov['1W CHANGE'] = dfgov['1W CHANGE'].str.replace('Arrow Upup', '+').str.replace('Arrow Downdown', '-')\n",
    "dfgov['1W CHANGE.1'] = dfgov['1W CHANGE.1'].str.replace('Arrow Upup', '+').str.replace('Arrow Downdown', '-')"
   ]
  },
  {
   "cell_type": "code",
   "execution_count": 15,
   "id": "23cc96b4",
   "metadata": {},
   "outputs": [],
   "source": [
    "dfgov['TYPE'] ='government'\n",
    "dfgov = dfgov[['PROGRAM','TYPE','RATE','APR']]"
   ]
  },
  {
   "cell_type": "code",
   "execution_count": 16,
   "id": "0dd8e6d9",
   "metadata": {
    "scrolled": true
   },
   "outputs": [
    {
     "data": {
      "text/html": [
       "<div>\n",
       "<style scoped>\n",
       "    .dataframe tbody tr th:only-of-type {\n",
       "        vertical-align: middle;\n",
       "    }\n",
       "\n",
       "    .dataframe tbody tr th {\n",
       "        vertical-align: top;\n",
       "    }\n",
       "\n",
       "    .dataframe thead th {\n",
       "        text-align: right;\n",
       "    }\n",
       "</style>\n",
       "<table border=\"1\" class=\"dataframe\">\n",
       "  <thead>\n",
       "    <tr style=\"text-align: right;\">\n",
       "      <th></th>\n",
       "      <th>PROGRAM</th>\n",
       "      <th>TYPE</th>\n",
       "      <th>RATE</th>\n",
       "      <th>APR</th>\n",
       "    </tr>\n",
       "  </thead>\n",
       "  <tbody>\n",
       "    <tr>\n",
       "      <th>0</th>\n",
       "      <td>30-Year Fixed Rate FHA</td>\n",
       "      <td>government</td>\n",
       "      <td>6.60 %</td>\n",
       "      <td>7.72 %</td>\n",
       "    </tr>\n",
       "    <tr>\n",
       "      <th>1</th>\n",
       "      <td>30-Year Fixed Rate VA</td>\n",
       "      <td>government</td>\n",
       "      <td>6.58 %</td>\n",
       "      <td>6.88 %</td>\n",
       "    </tr>\n",
       "    <tr>\n",
       "      <th>2</th>\n",
       "      <td>15-Year Fixed Rate FHA</td>\n",
       "      <td>government</td>\n",
       "      <td>6.24 %</td>\n",
       "      <td>7.39 %</td>\n",
       "    </tr>\n",
       "    <tr>\n",
       "      <th>3</th>\n",
       "      <td>15-Year Fixed Rate VA</td>\n",
       "      <td>government</td>\n",
       "      <td>6.27 %</td>\n",
       "      <td>6.81 %</td>\n",
       "    </tr>\n",
       "  </tbody>\n",
       "</table>\n",
       "</div>"
      ],
      "text/plain": [
       "                  PROGRAM        TYPE    RATE     APR\n",
       "0  30-Year Fixed Rate FHA  government  6.60 %  7.72 %\n",
       "1   30-Year Fixed Rate VA  government  6.58 %  6.88 %\n",
       "2  15-Year Fixed Rate FHA  government  6.24 %  7.39 %\n",
       "3   15-Year Fixed Rate VA  government  6.27 %  6.81 %"
      ]
     },
     "execution_count": 16,
     "metadata": {},
     "output_type": "execute_result"
    }
   ],
   "source": [
    "dfgov"
   ]
  },
  {
   "cell_type": "code",
   "execution_count": 17,
   "id": "816e14f6",
   "metadata": {},
   "outputs": [],
   "source": [
    "today_date = pd.Timestamp.now().strftime(\"%m/%d/%Y\")"
   ]
  },
  {
   "cell_type": "code",
   "execution_count": 18,
   "id": "c869530f",
   "metadata": {},
   "outputs": [
    {
     "data": {
      "text/plain": [
       "'09/30/2023'"
      ]
     },
     "execution_count": 18,
     "metadata": {},
     "output_type": "execute_result"
    }
   ],
   "source": [
    "today_date"
   ]
  },
  {
   "cell_type": "markdown",
   "id": "a4648cc3",
   "metadata": {},
   "source": [
    "## Jumbo loans"
   ]
  },
  {
   "cell_type": "code",
   "execution_count": 19,
   "id": "70ae3709",
   "metadata": {},
   "outputs": [],
   "source": [
    "url2 = '<table aria-label=\"Jumbo loans average mortgage rates\" class=\"StyledTable-c11n-8-64-1__sc-b979s8-0 kMPsPq\"><thead class=\"StyledTableHeader-c11n-8-64-1__sc-1ba0xxh-0 cgKfgl\"><tr class=\"StyledTableRow-c11n-8-64-1__sc-1gk7etl-0 ijzRLM\"><th scope=\"col\" class=\"StyledTableCell-c11n-8-64-1__sc-1mvjdio-0 StyledTableHeaderCell-c11n-8-64-1__sc-j48v56-0 fHuYaj\">PROGRAM</th><th scope=\"col\" class=\"StyledTableCell-c11n-8-64-1__sc-1mvjdio-0 StyledTableHeaderCell-c11n-8-64-1__sc-j48v56-0 iFGIvU\">RATE</th><th scope=\"col\" class=\"StyledTableCell-c11n-8-64-1__sc-1mvjdio-0 StyledTableHeaderCell-c11n-8-64-1__sc-j48v56-0 iFGIvU\">1W CHANGE</th><th scope=\"col\" class=\"StyledTableCell-c11n-8-64-1__sc-1mvjdio-0 StyledTableHeaderCell-c11n-8-64-1__sc-j48v56-0 iFGIvU\">APR</th><th scope=\"col\" class=\"StyledTableCell-c11n-8-64-1__sc-1mvjdio-0 StyledTableHeaderCell-c11n-8-64-1__sc-j48v56-0 iFGIvU\">1W CHANGE</th></tr></thead><tbody class=\"StyledTableBody-c11n-8-64-1__sc-8i1s74-0 hLYlju\"><tr class=\"StyledTableRow-c11n-8-64-1__sc-1gk7etl-0 ijzRLM\"><th scope=\"row\" class=\"StyledTableCell-c11n-8-64-1__sc-1mvjdio-0 StyledTableHeaderCell-c11n-8-64-1__sc-j48v56-0 fHuYaj\"><div class=\"zgmi__sc-1nq68fd-0 kLoDFU\"><a href=\"https://www.zillow.com/mortgage-rates/30-year-fixed\" class=\"Anchor-c11n-8-64-1__sc-hn4bge-0 fCrkWm\">30-Year Fixed Rate Jumbo</a></div></th><td class=\"StyledTableCell-c11n-8-64-1__sc-1mvjdio-0 iFGIvU\"><div class=\"zgmi__sc-1gaok4s-0 hZgvrA\"><span>7.48 %</span></div></td><td class=\"StyledTableCell-c11n-8-64-1__sc-1mvjdio-0 iFGIvU\"><div class=\"zgmi__iz4i4h-0 kyQiNz\"><svg viewBox=\"0 0 32 32\" class=\"Icon-c11n-8-64-1__sc-13llmml-0 inTCep IconArrowUpCircle-c11n-8-64-1__sc-1h3m26u-0 zgmi__iz4i4h-2 cmKYGM QMGIo\" aria-hidden=\"true\" focusable=\"false\" role=\"img\"><title>Arrow Up</title><path stroke=\"none\" d=\"M16 2a14 14 0 1014 14A14 14 0 0016 2zm7.69 15.69l-6.89 7a1.13 1.13 0 01-.8.31 1.09 1.09 0 01-.8-.31l-6.89-7a1.07 1.07 0 010-1.5 1 1 0 011.48 0L15 21.5V8a1 1 0 112 0v13.5l5.22-5.31a1 1 0 011.48 0 1.07 1.07 0 01-.01 1.5z\"></path></svg><span class=\"VisuallyHidden-c11n-8-64-1__sc-t8tewe-0 higCPc\">up</span>0.17 %</div></td><td class=\"StyledTableCell-c11n-8-64-1__sc-1mvjdio-0 iFGIvU\"><div class=\"zgmi__sc-1gaok4s-0 hZgvrA\"><span>7.55 %</span></div></td><td class=\"StyledTableCell-c11n-8-64-1__sc-1mvjdio-0 iFGIvU\"><div class=\"zgmi__iz4i4h-0 kyQiNz\"><svg viewBox=\"0 0 32 32\" class=\"Icon-c11n-8-64-1__sc-13llmml-0 inTCep IconArrowUpCircle-c11n-8-64-1__sc-1h3m26u-0 zgmi__iz4i4h-2 cmKYGM QMGIo\" aria-hidden=\"true\" focusable=\"false\" role=\"img\"><title>Arrow Up</title><path stroke=\"none\" d=\"M16 2a14 14 0 1014 14A14 14 0 0016 2zm7.69 15.69l-6.89 7a1.13 1.13 0 01-.8.31 1.09 1.09 0 01-.8-.31l-6.89-7a1.07 1.07 0 010-1.5 1 1 0 011.48 0L15 21.5V8a1 1 0 112 0v13.5l5.22-5.31a1 1 0 011.48 0 1.07 1.07 0 01-.01 1.5z\"></path></svg><span class=\"VisuallyHidden-c11n-8-64-1__sc-t8tewe-0 higCPc\">up</span>0.18 %</div></td></tr><tr class=\"StyledTableRow-c11n-8-64-1__sc-1gk7etl-0 ijzRLM\"><th scope=\"row\" class=\"StyledTableCell-c11n-8-64-1__sc-1mvjdio-0 StyledTableHeaderCell-c11n-8-64-1__sc-j48v56-0 fHuYaj\"><div class=\"zgmi__sc-1nq68fd-0 kLoDFU\"><a href=\"https://www.zillow.com/mortgage-rates/15-year-fixed\" class=\"Anchor-c11n-8-64-1__sc-hn4bge-0 fCrkWm\">15-Year Fixed Rate Jumbo</a></div></th><td class=\"StyledTableCell-c11n-8-64-1__sc-1mvjdio-0 iFGIvU\"><div class=\"zgmi__sc-1gaok4s-0 hZgvrA\"><span>7.19 %</span></div></td><td class=\"StyledTableCell-c11n-8-64-1__sc-1mvjdio-0 iFGIvU\">0.00 %</td><td class=\"StyledTableCell-c11n-8-64-1__sc-1mvjdio-0 iFGIvU\"><div class=\"zgmi__sc-1gaok4s-0 hZgvrA\"><span>7.32 %</span></div></td><td class=\"StyledTableCell-c11n-8-64-1__sc-1mvjdio-0 iFGIvU\"><div class=\"zgmi__iz4i4h-0 kyQiNz\"><svg viewBox=\"0 0 32 32\" class=\"Icon-c11n-8-64-1__sc-13llmml-0 inTCep IconArrowUpCircle-c11n-8-64-1__sc-1h3m26u-0 zgmi__iz4i4h-2 cmKYGM QMGIo\" aria-hidden=\"true\" focusable=\"false\" role=\"img\"><title>Arrow Up</title><path stroke=\"none\" d=\"M16 2a14 14 0 1014 14A14 14 0 0016 2zm7.69 15.69l-6.89 7a1.13 1.13 0 01-.8.31 1.09 1.09 0 01-.8-.31l-6.89-7a1.07 1.07 0 010-1.5 1 1 0 011.48 0L15 21.5V8a1 1 0 112 0v13.5l5.22-5.31a1 1 0 011.48 0 1.07 1.07 0 01-.01 1.5z\"></path></svg><span class=\"VisuallyHidden-c11n-8-64-1__sc-t8tewe-0 higCPc\">up</span>0.03 %</div></td></tr><tr class=\"StyledTableRow-c11n-8-64-1__sc-1gk7etl-0 ijzRLM\"><th scope=\"row\" class=\"StyledTableCell-c11n-8-64-1__sc-1mvjdio-0 StyledTableHeaderCell-c11n-8-64-1__sc-j48v56-0 fHuYaj\"><div class=\"zgmi__sc-1nq68fd-0 kLoDFU\"><a href=\"https://www.zillow.com/mortgage-rates/7-year-arm\" class=\"Anchor-c11n-8-64-1__sc-hn4bge-0 fCrkWm\">7-year ARM Jumbo</a></div></th><td class=\"StyledTableCell-c11n-8-64-1__sc-1mvjdio-0 iFGIvU\"><div class=\"zgmi__sc-1gaok4s-0 hZgvrA\"><span>7.54 %</span></div></td><td class=\"StyledTableCell-c11n-8-64-1__sc-1mvjdio-0 iFGIvU\"><div class=\"zgmi__iz4i4h-0 kyQiNz\"><svg viewBox=\"0 0 32 32\" class=\"Icon-c11n-8-64-1__sc-13llmml-0 inTCep IconArrowUpCircle-c11n-8-64-1__sc-1h3m26u-0 zgmi__iz4i4h-2 cmKYGM QMGIo\" aria-hidden=\"true\" focusable=\"false\" role=\"img\"><title>Arrow Up</title><path stroke=\"none\" d=\"M16 2a14 14 0 1014 14A14 14 0 0016 2zm7.69 15.69l-6.89 7a1.13 1.13 0 01-.8.31 1.09 1.09 0 01-.8-.31l-6.89-7a1.07 1.07 0 010-1.5 1 1 0 011.48 0L15 21.5V8a1 1 0 112 0v13.5l5.22-5.31a1 1 0 011.48 0 1.07 1.07 0 01-.01 1.5z\"></path></svg><span class=\"VisuallyHidden-c11n-8-64-1__sc-t8tewe-0 higCPc\">up</span>0.12 %</div></td><td class=\"StyledTableCell-c11n-8-64-1__sc-1mvjdio-0 iFGIvU\"><div class=\"zgmi__sc-1gaok4s-0 hZgvrA\"><span>7.95 %</span></div></td><td class=\"StyledTableCell-c11n-8-64-1__sc-1mvjdio-0 iFGIvU\"><div class=\"zgmi__iz4i4h-0 kyQiNz\"><svg viewBox=\"0 0 32 32\" class=\"Icon-c11n-8-64-1__sc-13llmml-0 inTCep IconArrowUpCircle-c11n-8-64-1__sc-1h3m26u-0 zgmi__iz4i4h-2 cmKYGM QMGIo\" aria-hidden=\"true\" focusable=\"false\" role=\"img\"><title>Arrow Up</title><path stroke=\"none\" d=\"M16 2a14 14 0 1014 14A14 14 0 0016 2zm7.69 15.69l-6.89 7a1.13 1.13 0 01-.8.31 1.09 1.09 0 01-.8-.31l-6.89-7a1.07 1.07 0 010-1.5 1 1 0 011.48 0L15 21.5V8a1 1 0 112 0v13.5l5.22-5.31a1 1 0 011.48 0 1.07 1.07 0 01-.01 1.5z\"></path></svg><span class=\"VisuallyHidden-c11n-8-64-1__sc-t8tewe-0 higCPc\">up</span>0.08 %</div></td></tr><tr class=\"StyledTableRow-c11n-8-64-1__sc-1gk7etl-0 ijzRLM\"><th scope=\"row\" class=\"StyledTableCell-c11n-8-64-1__sc-1mvjdio-0 StyledTableHeaderCell-c11n-8-64-1__sc-j48v56-0 fHuYaj\"><div class=\"zgmi__sc-1nq68fd-0 kLoDFU\"><a href=\"https://www.zillow.com/mortgage-rates/5-year-arm\" class=\"Anchor-c11n-8-64-1__sc-hn4bge-0 fCrkWm\">5-year ARM Jumbo</a></div></th><td class=\"StyledTableCell-c11n-8-64-1__sc-1mvjdio-0 iFGIvU\"><div class=\"zgmi__sc-1gaok4s-0 hZgvrA\"><span>7.26 %</span></div></td><td class=\"StyledTableCell-c11n-8-64-1__sc-1mvjdio-0 iFGIvU\"><div class=\"zgmi__iz4i4h-0 kyQiNz\"><svg viewBox=\"0 0 32 32\" class=\"Icon-c11n-8-64-1__sc-13llmml-0 inTCep IconArrowUpCircle-c11n-8-64-1__sc-1h3m26u-0 zgmi__iz4i4h-2 cmKYGM QMGIo\" aria-hidden=\"true\" focusable=\"false\" role=\"img\"><title>Arrow Up</title><path stroke=\"none\" d=\"M16 2a14 14 0 1014 14A14 14 0 0016 2zm7.69 15.69l-6.89 7a1.13 1.13 0 01-.8.31 1.09 1.09 0 01-.8-.31l-6.89-7a1.07 1.07 0 010-1.5 1 1 0 011.48 0L15 21.5V8a1 1 0 112 0v13.5l5.22-5.31a1 1 0 011.48 0 1.07 1.07 0 01-.01 1.5z\"></path></svg><span class=\"VisuallyHidden-c11n-8-64-1__sc-t8tewe-0 higCPc\">up</span>0.06 %</div></td><td class=\"StyledTableCell-c11n-8-64-1__sc-1mvjdio-0 iFGIvU\"><div class=\"zgmi__sc-1gaok4s-0 hZgvrA\"><span>7.92 %</span></div></td><td class=\"StyledTableCell-c11n-8-64-1__sc-1mvjdio-0 iFGIvU\"><div class=\"zgmi__iz4i4h-0 kyQiNz\"><svg viewBox=\"0 0 32 32\" class=\"Icon-c11n-8-64-1__sc-13llmml-0 inTCep IconArrowUpCircle-c11n-8-64-1__sc-1h3m26u-0 zgmi__iz4i4h-2 cmKYGM QMGIo\" aria-hidden=\"true\" focusable=\"false\" role=\"img\"><title>Arrow Up</title><path stroke=\"none\" d=\"M16 2a14 14 0 1014 14A14 14 0 0016 2zm7.69 15.69l-6.89 7a1.13 1.13 0 01-.8.31 1.09 1.09 0 01-.8-.31l-6.89-7a1.07 1.07 0 010-1.5 1 1 0 011.48 0L15 21.5V8a1 1 0 112 0v13.5l5.22-5.31a1 1 0 011.48 0 1.07 1.07 0 01-.01 1.5z\"></path></svg><span class=\"VisuallyHidden-c11n-8-64-1__sc-t8tewe-0 higCPc\">up</span>0.05 %</div></td></tr><tr class=\"StyledTableRow-c11n-8-64-1__sc-1gk7etl-0 ijzRLM\"><th scope=\"row\" class=\"StyledTableCell-c11n-8-64-1__sc-1mvjdio-0 StyledTableHeaderCell-c11n-8-64-1__sc-j48v56-0 fHuYaj\"><div class=\"zgmi__sc-1nq68fd-0 kLoDFU\"><a href=\"https://www.zillow.com/mortgage-rates/3-year-arm\" class=\"Anchor-c11n-8-64-1__sc-hn4bge-0 fCrkWm\">3-year ARM Jumbo</a></div></th><td class=\"StyledTableCell-c11n-8-64-1__sc-1mvjdio-0 iFGIvU\"><div class=\"zgmi__sc-1gaok4s-0 hZgvrA\"><span>5.72 %</span></div></td><td class=\"StyledTableCell-c11n-8-64-1__sc-1mvjdio-0 iFGIvU\"><div class=\"zgmi__iz4i4h-0 kyQiNz\"><svg viewBox=\"0 0 32 32\" class=\"Icon-c11n-8-64-1__sc-13llmml-0 inTCep IconArrowUpCircle-c11n-8-64-1__sc-1h3m26u-0 zgmi__iz4i4h-2 cmKYGM QMGIo\" aria-hidden=\"true\" focusable=\"false\" role=\"img\"><title>Arrow Up</title><path stroke=\"none\" d=\"M16 2a14 14 0 1014 14A14 14 0 0016 2zm7.69 15.69l-6.89 7a1.13 1.13 0 01-.8.31 1.09 1.09 0 01-.8-.31l-6.89-7a1.07 1.07 0 010-1.5 1 1 0 011.48 0L15 21.5V8a1 1 0 112 0v13.5l5.22-5.31a1 1 0 011.48 0 1.07 1.07 0 01-.01 1.5z\"></path></svg><span class=\"VisuallyHidden-c11n-8-64-1__sc-t8tewe-0 higCPc\">up</span>0.01 %</div></td><td class=\"StyledTableCell-c11n-8-64-1__sc-1mvjdio-0 iFGIvU\"><div class=\"zgmi__sc-1gaok4s-0 hZgvrA\"><span>7.40 %</span></div></td><td class=\"StyledTableCell-c11n-8-64-1__sc-1mvjdio-0 iFGIvU\">0.00 %</td></tr></tbody></table>'"
   ]
  },
  {
   "cell_type": "code",
   "execution_count": 20,
   "id": "07b73299",
   "metadata": {},
   "outputs": [],
   "source": [
    "df2 = pd.read_html(url2)"
   ]
  },
  {
   "cell_type": "code",
   "execution_count": 21,
   "id": "13a2bfbb",
   "metadata": {},
   "outputs": [],
   "source": [
    "dfjumbo = df2[0]"
   ]
  },
  {
   "cell_type": "code",
   "execution_count": 22,
   "id": "5a3acae8",
   "metadata": {},
   "outputs": [],
   "source": [
    "dfjumbo['1W CHANGE'] = dfjumbo['1W CHANGE'].str.replace('Arrow Upup', '+').str.replace('Arrow Downdown', '-')\n",
    "dfjumbo['1W CHANGE.1'] = dfjumbo['1W CHANGE.1'].str.replace('Arrow Upup', '+').str.replace('Arrow Downdown', '-')"
   ]
  },
  {
   "cell_type": "code",
   "execution_count": 23,
   "id": "4ce8924e",
   "metadata": {},
   "outputs": [],
   "source": [
    "dfjumbo['TYPE'] ='jumbo'\n",
    "dfjumbo = dfjumbo[['PROGRAM','TYPE','RATE','APR']]"
   ]
  },
  {
   "cell_type": "code",
   "execution_count": 24,
   "id": "74c405b6",
   "metadata": {},
   "outputs": [
    {
     "data": {
      "text/html": [
       "<div>\n",
       "<style scoped>\n",
       "    .dataframe tbody tr th:only-of-type {\n",
       "        vertical-align: middle;\n",
       "    }\n",
       "\n",
       "    .dataframe tbody tr th {\n",
       "        vertical-align: top;\n",
       "    }\n",
       "\n",
       "    .dataframe thead th {\n",
       "        text-align: right;\n",
       "    }\n",
       "</style>\n",
       "<table border=\"1\" class=\"dataframe\">\n",
       "  <thead>\n",
       "    <tr style=\"text-align: right;\">\n",
       "      <th></th>\n",
       "      <th>PROGRAM</th>\n",
       "      <th>TYPE</th>\n",
       "      <th>RATE</th>\n",
       "      <th>APR</th>\n",
       "    </tr>\n",
       "  </thead>\n",
       "  <tbody>\n",
       "    <tr>\n",
       "      <th>0</th>\n",
       "      <td>30-Year Fixed Rate Jumbo</td>\n",
       "      <td>jumbo</td>\n",
       "      <td>7.48 %</td>\n",
       "      <td>7.55 %</td>\n",
       "    </tr>\n",
       "    <tr>\n",
       "      <th>1</th>\n",
       "      <td>15-Year Fixed Rate Jumbo</td>\n",
       "      <td>jumbo</td>\n",
       "      <td>7.19 %</td>\n",
       "      <td>7.32 %</td>\n",
       "    </tr>\n",
       "    <tr>\n",
       "      <th>2</th>\n",
       "      <td>7-year ARM Jumbo</td>\n",
       "      <td>jumbo</td>\n",
       "      <td>7.54 %</td>\n",
       "      <td>7.95 %</td>\n",
       "    </tr>\n",
       "    <tr>\n",
       "      <th>3</th>\n",
       "      <td>5-year ARM Jumbo</td>\n",
       "      <td>jumbo</td>\n",
       "      <td>7.26 %</td>\n",
       "      <td>7.92 %</td>\n",
       "    </tr>\n",
       "    <tr>\n",
       "      <th>4</th>\n",
       "      <td>3-year ARM Jumbo</td>\n",
       "      <td>jumbo</td>\n",
       "      <td>5.72 %</td>\n",
       "      <td>7.40 %</td>\n",
       "    </tr>\n",
       "  </tbody>\n",
       "</table>\n",
       "</div>"
      ],
      "text/plain": [
       "                    PROGRAM   TYPE    RATE     APR\n",
       "0  30-Year Fixed Rate Jumbo  jumbo  7.48 %  7.55 %\n",
       "1  15-Year Fixed Rate Jumbo  jumbo  7.19 %  7.32 %\n",
       "2          7-year ARM Jumbo  jumbo  7.54 %  7.95 %\n",
       "3          5-year ARM Jumbo  jumbo  7.26 %  7.92 %\n",
       "4          3-year ARM Jumbo  jumbo  5.72 %  7.40 %"
      ]
     },
     "execution_count": 24,
     "metadata": {},
     "output_type": "execute_result"
    }
   ],
   "source": [
    "dfjumbo"
   ]
  },
  {
   "cell_type": "markdown",
   "id": "7bba5836",
   "metadata": {},
   "source": [
    "# Adding the date of scraping"
   ]
  },
  {
   "cell_type": "code",
   "execution_count": 25,
   "id": "4bae4d28",
   "metadata": {},
   "outputs": [],
   "source": [
    "today_date = pd.Timestamp.now().strftime(\"%m/%d/%Y\").replace('/','-')"
   ]
  },
  {
   "cell_type": "code",
   "execution_count": 26,
   "id": "75b11ed2",
   "metadata": {},
   "outputs": [],
   "source": [
    "df = pd.concat([dfconforming,dfgov,dfjumbo], axis = 0)"
   ]
  },
  {
   "cell_type": "code",
   "execution_count": 27,
   "id": "a5611c84",
   "metadata": {},
   "outputs": [
    {
     "data": {
      "text/html": [
       "<div>\n",
       "<style scoped>\n",
       "    .dataframe tbody tr th:only-of-type {\n",
       "        vertical-align: middle;\n",
       "    }\n",
       "\n",
       "    .dataframe tbody tr th {\n",
       "        vertical-align: top;\n",
       "    }\n",
       "\n",
       "    .dataframe thead th {\n",
       "        text-align: right;\n",
       "    }\n",
       "</style>\n",
       "<table border=\"1\" class=\"dataframe\">\n",
       "  <thead>\n",
       "    <tr style=\"text-align: right;\">\n",
       "      <th></th>\n",
       "      <th>PROGRAM</th>\n",
       "      <th>TYPE</th>\n",
       "      <th>RATE</th>\n",
       "      <th>APR</th>\n",
       "    </tr>\n",
       "  </thead>\n",
       "  <tbody>\n",
       "    <tr>\n",
       "      <th>0</th>\n",
       "      <td>30-Year Fixed Rate</td>\n",
       "      <td>conforming</td>\n",
       "      <td>7.28 %</td>\n",
       "      <td>7.36 %</td>\n",
       "    </tr>\n",
       "    <tr>\n",
       "      <th>1</th>\n",
       "      <td>20-Year Fixed Rate</td>\n",
       "      <td>conforming</td>\n",
       "      <td>7.01 %</td>\n",
       "      <td>7.11 %</td>\n",
       "    </tr>\n",
       "    <tr>\n",
       "      <th>2</th>\n",
       "      <td>15-Year Fixed Rate</td>\n",
       "      <td>conforming</td>\n",
       "      <td>6.53 %</td>\n",
       "      <td>6.67 %</td>\n",
       "    </tr>\n",
       "    <tr>\n",
       "      <th>3</th>\n",
       "      <td>10-Year Fixed Rate</td>\n",
       "      <td>conforming</td>\n",
       "      <td>6.53 %</td>\n",
       "      <td>6.73 %</td>\n",
       "    </tr>\n",
       "    <tr>\n",
       "      <th>4</th>\n",
       "      <td>7-year ARM</td>\n",
       "      <td>conforming</td>\n",
       "      <td>7.52 %</td>\n",
       "      <td>7.99 %</td>\n",
       "    </tr>\n",
       "    <tr>\n",
       "      <th>5</th>\n",
       "      <td>5-year ARM</td>\n",
       "      <td>conforming</td>\n",
       "      <td>7.13 %</td>\n",
       "      <td>7.92 %</td>\n",
       "    </tr>\n",
       "    <tr>\n",
       "      <th>6</th>\n",
       "      <td>3-year ARM</td>\n",
       "      <td>conforming</td>\n",
       "      <td>--</td>\n",
       "      <td>--</td>\n",
       "    </tr>\n",
       "    <tr>\n",
       "      <th>0</th>\n",
       "      <td>30-Year Fixed Rate FHA</td>\n",
       "      <td>government</td>\n",
       "      <td>6.60 %</td>\n",
       "      <td>7.72 %</td>\n",
       "    </tr>\n",
       "    <tr>\n",
       "      <th>1</th>\n",
       "      <td>30-Year Fixed Rate VA</td>\n",
       "      <td>government</td>\n",
       "      <td>6.58 %</td>\n",
       "      <td>6.88 %</td>\n",
       "    </tr>\n",
       "    <tr>\n",
       "      <th>2</th>\n",
       "      <td>15-Year Fixed Rate FHA</td>\n",
       "      <td>government</td>\n",
       "      <td>6.24 %</td>\n",
       "      <td>7.39 %</td>\n",
       "    </tr>\n",
       "    <tr>\n",
       "      <th>3</th>\n",
       "      <td>15-Year Fixed Rate VA</td>\n",
       "      <td>government</td>\n",
       "      <td>6.27 %</td>\n",
       "      <td>6.81 %</td>\n",
       "    </tr>\n",
       "    <tr>\n",
       "      <th>0</th>\n",
       "      <td>30-Year Fixed Rate Jumbo</td>\n",
       "      <td>jumbo</td>\n",
       "      <td>7.48 %</td>\n",
       "      <td>7.55 %</td>\n",
       "    </tr>\n",
       "    <tr>\n",
       "      <th>1</th>\n",
       "      <td>15-Year Fixed Rate Jumbo</td>\n",
       "      <td>jumbo</td>\n",
       "      <td>7.19 %</td>\n",
       "      <td>7.32 %</td>\n",
       "    </tr>\n",
       "    <tr>\n",
       "      <th>2</th>\n",
       "      <td>7-year ARM Jumbo</td>\n",
       "      <td>jumbo</td>\n",
       "      <td>7.54 %</td>\n",
       "      <td>7.95 %</td>\n",
       "    </tr>\n",
       "    <tr>\n",
       "      <th>3</th>\n",
       "      <td>5-year ARM Jumbo</td>\n",
       "      <td>jumbo</td>\n",
       "      <td>7.26 %</td>\n",
       "      <td>7.92 %</td>\n",
       "    </tr>\n",
       "    <tr>\n",
       "      <th>4</th>\n",
       "      <td>3-year ARM Jumbo</td>\n",
       "      <td>jumbo</td>\n",
       "      <td>5.72 %</td>\n",
       "      <td>7.40 %</td>\n",
       "    </tr>\n",
       "  </tbody>\n",
       "</table>\n",
       "</div>"
      ],
      "text/plain": [
       "                    PROGRAM        TYPE    RATE     APR\n",
       "0        30-Year Fixed Rate  conforming  7.28 %  7.36 %\n",
       "1        20-Year Fixed Rate  conforming  7.01 %  7.11 %\n",
       "2        15-Year Fixed Rate  conforming  6.53 %  6.67 %\n",
       "3        10-Year Fixed Rate  conforming  6.53 %  6.73 %\n",
       "4                7-year ARM  conforming  7.52 %  7.99 %\n",
       "5                5-year ARM  conforming  7.13 %  7.92 %\n",
       "6                3-year ARM  conforming      --      --\n",
       "0    30-Year Fixed Rate FHA  government  6.60 %  7.72 %\n",
       "1     30-Year Fixed Rate VA  government  6.58 %  6.88 %\n",
       "2    15-Year Fixed Rate FHA  government  6.24 %  7.39 %\n",
       "3     15-Year Fixed Rate VA  government  6.27 %  6.81 %\n",
       "0  30-Year Fixed Rate Jumbo       jumbo  7.48 %  7.55 %\n",
       "1  15-Year Fixed Rate Jumbo       jumbo  7.19 %  7.32 %\n",
       "2          7-year ARM Jumbo       jumbo  7.54 %  7.95 %\n",
       "3          5-year ARM Jumbo       jumbo  7.26 %  7.92 %\n",
       "4          3-year ARM Jumbo       jumbo  5.72 %  7.40 %"
      ]
     },
     "execution_count": 27,
     "metadata": {},
     "output_type": "execute_result"
    }
   ],
   "source": [
    "df"
   ]
  },
  {
   "cell_type": "code",
   "execution_count": 28,
   "id": "ebe68443",
   "metadata": {},
   "outputs": [],
   "source": [
    "df['date_of_scrape'] = today_date"
   ]
  },
  {
   "cell_type": "code",
   "execution_count": 29,
   "id": "2c4b80c4",
   "metadata": {},
   "outputs": [],
   "source": [
    "df = df[['date_of_scrape','PROGRAM','TYPE','RATE','APR']]"
   ]
  },
  {
   "cell_type": "code",
   "execution_count": 30,
   "id": "2b388ded",
   "metadata": {},
   "outputs": [],
   "source": [
    "df.reset_index(drop = True,inplace = True)"
   ]
  },
  {
   "cell_type": "code",
   "execution_count": 31,
   "id": "4c36c3ec",
   "metadata": {},
   "outputs": [
    {
     "data": {
      "text/html": [
       "<div>\n",
       "<style scoped>\n",
       "    .dataframe tbody tr th:only-of-type {\n",
       "        vertical-align: middle;\n",
       "    }\n",
       "\n",
       "    .dataframe tbody tr th {\n",
       "        vertical-align: top;\n",
       "    }\n",
       "\n",
       "    .dataframe thead th {\n",
       "        text-align: right;\n",
       "    }\n",
       "</style>\n",
       "<table border=\"1\" class=\"dataframe\">\n",
       "  <thead>\n",
       "    <tr style=\"text-align: right;\">\n",
       "      <th></th>\n",
       "      <th>date_of_scrape</th>\n",
       "      <th>PROGRAM</th>\n",
       "      <th>TYPE</th>\n",
       "      <th>RATE</th>\n",
       "      <th>APR</th>\n",
       "    </tr>\n",
       "  </thead>\n",
       "  <tbody>\n",
       "    <tr>\n",
       "      <th>0</th>\n",
       "      <td>09-30-2023</td>\n",
       "      <td>30-Year Fixed Rate</td>\n",
       "      <td>conforming</td>\n",
       "      <td>7.28 %</td>\n",
       "      <td>7.36 %</td>\n",
       "    </tr>\n",
       "    <tr>\n",
       "      <th>1</th>\n",
       "      <td>09-30-2023</td>\n",
       "      <td>20-Year Fixed Rate</td>\n",
       "      <td>conforming</td>\n",
       "      <td>7.01 %</td>\n",
       "      <td>7.11 %</td>\n",
       "    </tr>\n",
       "    <tr>\n",
       "      <th>2</th>\n",
       "      <td>09-30-2023</td>\n",
       "      <td>15-Year Fixed Rate</td>\n",
       "      <td>conforming</td>\n",
       "      <td>6.53 %</td>\n",
       "      <td>6.67 %</td>\n",
       "    </tr>\n",
       "    <tr>\n",
       "      <th>3</th>\n",
       "      <td>09-30-2023</td>\n",
       "      <td>10-Year Fixed Rate</td>\n",
       "      <td>conforming</td>\n",
       "      <td>6.53 %</td>\n",
       "      <td>6.73 %</td>\n",
       "    </tr>\n",
       "    <tr>\n",
       "      <th>4</th>\n",
       "      <td>09-30-2023</td>\n",
       "      <td>7-year ARM</td>\n",
       "      <td>conforming</td>\n",
       "      <td>7.52 %</td>\n",
       "      <td>7.99 %</td>\n",
       "    </tr>\n",
       "    <tr>\n",
       "      <th>5</th>\n",
       "      <td>09-30-2023</td>\n",
       "      <td>5-year ARM</td>\n",
       "      <td>conforming</td>\n",
       "      <td>7.13 %</td>\n",
       "      <td>7.92 %</td>\n",
       "    </tr>\n",
       "    <tr>\n",
       "      <th>6</th>\n",
       "      <td>09-30-2023</td>\n",
       "      <td>3-year ARM</td>\n",
       "      <td>conforming</td>\n",
       "      <td>--</td>\n",
       "      <td>--</td>\n",
       "    </tr>\n",
       "    <tr>\n",
       "      <th>7</th>\n",
       "      <td>09-30-2023</td>\n",
       "      <td>30-Year Fixed Rate FHA</td>\n",
       "      <td>government</td>\n",
       "      <td>6.60 %</td>\n",
       "      <td>7.72 %</td>\n",
       "    </tr>\n",
       "    <tr>\n",
       "      <th>8</th>\n",
       "      <td>09-30-2023</td>\n",
       "      <td>30-Year Fixed Rate VA</td>\n",
       "      <td>government</td>\n",
       "      <td>6.58 %</td>\n",
       "      <td>6.88 %</td>\n",
       "    </tr>\n",
       "    <tr>\n",
       "      <th>9</th>\n",
       "      <td>09-30-2023</td>\n",
       "      <td>15-Year Fixed Rate FHA</td>\n",
       "      <td>government</td>\n",
       "      <td>6.24 %</td>\n",
       "      <td>7.39 %</td>\n",
       "    </tr>\n",
       "    <tr>\n",
       "      <th>10</th>\n",
       "      <td>09-30-2023</td>\n",
       "      <td>15-Year Fixed Rate VA</td>\n",
       "      <td>government</td>\n",
       "      <td>6.27 %</td>\n",
       "      <td>6.81 %</td>\n",
       "    </tr>\n",
       "    <tr>\n",
       "      <th>11</th>\n",
       "      <td>09-30-2023</td>\n",
       "      <td>30-Year Fixed Rate Jumbo</td>\n",
       "      <td>jumbo</td>\n",
       "      <td>7.48 %</td>\n",
       "      <td>7.55 %</td>\n",
       "    </tr>\n",
       "    <tr>\n",
       "      <th>12</th>\n",
       "      <td>09-30-2023</td>\n",
       "      <td>15-Year Fixed Rate Jumbo</td>\n",
       "      <td>jumbo</td>\n",
       "      <td>7.19 %</td>\n",
       "      <td>7.32 %</td>\n",
       "    </tr>\n",
       "    <tr>\n",
       "      <th>13</th>\n",
       "      <td>09-30-2023</td>\n",
       "      <td>7-year ARM Jumbo</td>\n",
       "      <td>jumbo</td>\n",
       "      <td>7.54 %</td>\n",
       "      <td>7.95 %</td>\n",
       "    </tr>\n",
       "    <tr>\n",
       "      <th>14</th>\n",
       "      <td>09-30-2023</td>\n",
       "      <td>5-year ARM Jumbo</td>\n",
       "      <td>jumbo</td>\n",
       "      <td>7.26 %</td>\n",
       "      <td>7.92 %</td>\n",
       "    </tr>\n",
       "    <tr>\n",
       "      <th>15</th>\n",
       "      <td>09-30-2023</td>\n",
       "      <td>3-year ARM Jumbo</td>\n",
       "      <td>jumbo</td>\n",
       "      <td>5.72 %</td>\n",
       "      <td>7.40 %</td>\n",
       "    </tr>\n",
       "  </tbody>\n",
       "</table>\n",
       "</div>"
      ],
      "text/plain": [
       "   date_of_scrape                   PROGRAM        TYPE    RATE     APR\n",
       "0      09-30-2023        30-Year Fixed Rate  conforming  7.28 %  7.36 %\n",
       "1      09-30-2023        20-Year Fixed Rate  conforming  7.01 %  7.11 %\n",
       "2      09-30-2023        15-Year Fixed Rate  conforming  6.53 %  6.67 %\n",
       "3      09-30-2023        10-Year Fixed Rate  conforming  6.53 %  6.73 %\n",
       "4      09-30-2023                7-year ARM  conforming  7.52 %  7.99 %\n",
       "5      09-30-2023                5-year ARM  conforming  7.13 %  7.92 %\n",
       "6      09-30-2023                3-year ARM  conforming      --      --\n",
       "7      09-30-2023    30-Year Fixed Rate FHA  government  6.60 %  7.72 %\n",
       "8      09-30-2023     30-Year Fixed Rate VA  government  6.58 %  6.88 %\n",
       "9      09-30-2023    15-Year Fixed Rate FHA  government  6.24 %  7.39 %\n",
       "10     09-30-2023     15-Year Fixed Rate VA  government  6.27 %  6.81 %\n",
       "11     09-30-2023  30-Year Fixed Rate Jumbo       jumbo  7.48 %  7.55 %\n",
       "12     09-30-2023  15-Year Fixed Rate Jumbo       jumbo  7.19 %  7.32 %\n",
       "13     09-30-2023          7-year ARM Jumbo       jumbo  7.54 %  7.95 %\n",
       "14     09-30-2023          5-year ARM Jumbo       jumbo  7.26 %  7.92 %\n",
       "15     09-30-2023          3-year ARM Jumbo       jumbo  5.72 %  7.40 %"
      ]
     },
     "execution_count": 31,
     "metadata": {},
     "output_type": "execute_result"
    }
   ],
   "source": [
    "df"
   ]
  },
  {
   "cell_type": "code",
   "execution_count": 32,
   "id": "18c23a69",
   "metadata": {},
   "outputs": [],
   "source": [
    "df.to_csv(f'{today_date}.csv')"
   ]
  }
 ],
 "metadata": {
  "kernelspec": {
   "display_name": "Python 3 (ipykernel)",
   "language": "python",
   "name": "python3"
  },
  "language_info": {
   "codemirror_mode": {
    "name": "ipython",
    "version": 3
   },
   "file_extension": ".py",
   "mimetype": "text/x-python",
   "name": "python",
   "nbconvert_exporter": "python",
   "pygments_lexer": "ipython3",
   "version": "3.11.4"
  }
 },
 "nbformat": 4,
 "nbformat_minor": 5
}
